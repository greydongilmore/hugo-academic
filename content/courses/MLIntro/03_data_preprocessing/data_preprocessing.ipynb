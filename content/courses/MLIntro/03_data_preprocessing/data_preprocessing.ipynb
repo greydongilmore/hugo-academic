{
 "cells": [
  {
   "cell_type": "markdown",
   "metadata": {},
   "source": [
    "# Data Processing\n",
    "\n",
    "Data pre-processing techniques generally refer to the addition, deletion, or transformation of training set data. Different models have different sensitivities to the type of predictors in the model; *how* the predictors enter the model is also important. Transformations of the data to reduce the impact of data skewness or outliers can lead to significant improvements in performance. \n",
    "\n",
    "In general, the work required to make your dataset easy to analyze.\n",
    "\n",
    "* Easy to use column names\n",
    "* Fixing inconsistent variables\n",
    "* Merging with other datasets\n",
    "* Reshaping (melt, pivot, ect..)\n",
    "* Dealing with missing values"
   ]
  }
 ],
 "metadata": {
  "kernelspec": {
   "display_name": "Python 3 (Spyder)",
   "language": "python3",
   "name": "python3"
  },
  "language_info": {
   "codemirror_mode": {
    "name": "ipython",
    "version": 3
   },
   "file_extension": ".py",
   "mimetype": "text/x-python",
   "name": "python",
   "nbconvert_exporter": "python",
   "pygments_lexer": "ipython3",
   "version": "3.6.9"
  }
 },
 "nbformat": 4,
 "nbformat_minor": 2
}
