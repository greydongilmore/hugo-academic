{
 "cells": [
  {
   "cell_type": "markdown",
   "metadata": {},
   "source": [
    "## Assign model input variables\n",
    "\n",
    "Having some features we can use to make predictions is great, but we also need to know what we're trying to predict! Conventionally, the target of the prediction process is a vector of scores usually labeled **y**. The features are thus seperated into two main variables denoted with **X** and **y**. The **X** variable will contain all of the features and samples except for the output or target feature sale price. We are using sale price as our target predictor feature, which gets assigned to the **y** variable.\n",
    "\n"
   ]
  },
  {
   "cell_type": "code",
   "execution_count": null,
   "metadata": {},
   "outputs": [],
   "source": [
    "from sklearn.model_selection import train_test_split\n",
    "\n",
    "# Set final input features and output variable\n",
    "y = X['SalePrice']\n",
    "X = X.drop(['SalePrice'], axis =1)\n",
    "\n",
    "# Split data into test and train sets\n",
    "X_train, X_test, y_train, y_test = train_test_split(X, y.to_numpy().ravel(), test_size=0.30, random_state=101)"
   ]
  },
  {
   "cell_type": "markdown",
   "metadata": {},
   "source": [
    "The first approach to remove some of the features will be to examine the correlation between the features and the independent variable (target) of sale price:"
   ]
  },
  {
   "cell_type": "code",
   "execution_count": null,
   "metadata": {},
   "outputs": [],
   "source": [
    "import seaborn as sns\n",
    "\n",
    "# matplotlib is Python's main plotting library.\n",
    "# the plt module provides high-level access to plots.\n",
    "import matplotlib.pyplot as plt\n",
    "\n",
    "### tells the jupyter notebook to display plots in-line\n",
    "%matplotlib inline\n",
    "\n",
    "# Select only columns that are numeric\n",
    "all_data = all_data.select_dtypes(['number'])\n",
    "\n",
    "# Create correlation matrix\n",
    "correlation_matrix = all_data.corr()\n",
    "\n",
    "fig, ax = plt.subplots(figsize=(10,7)) \n",
    "sns.heatmap(data=correlation_matrix, annot=True, ax=ax);"
   ]
  },
  {
   "cell_type": "markdown",
   "metadata": {},
   "source": [
    "We will now remove features that have a low correlation with sales price as these features to not contribute significantly:"
   ]
  },
  {
   "cell_type": "code",
   "execution_count": null,
   "metadata": {},
   "outputs": [],
   "source": [
    "# Correlation with output variable\n",
    "cor_target = abs(correlation_matrix[\"SalePrice\"])\n",
    "\n",
    "# Selecting correlated features above threshold\n",
    "relevant_features = cor_target[cor_target>0.1]\n",
    "X = all_data[relevant_features.index.values]\n",
    "\n",
    "# Remove any rows that contain NaN\n",
    "for ifeature in relevant_features.index.values:\n",
    "    X = X[pd.notnull(X[ifeature])]"
   ]
  },
  {
   "cell_type": "code",
   "execution_count": null,
   "metadata": {},
   "outputs": [],
   "source": [
    "# Histogram of the sales\n",
    "X['SalePrice'].plot(kind='hist', color='purple', edgecolor='black', figsize=(10,6), bins = 30);\n",
    "plt.title('Distribution of House Sale Price', fontweight='bold');\n",
    "plt.xlabel('Sale Price (USD)', fontweight='bold');\n",
    "plt.ylabel('Frequency', fontweight='bold');"
   ]
  },
  {
   "cell_type": "markdown",
   "metadata": {},
   "source": [
    "The cleaned-up version of the distribution of sales price, the dataset now contains 1121 samples and 27 features."
   ]
  }
 ],
 "metadata": {
  "kernelspec": {
   "display_name": "Python 3 (Spyder)",
   "language": "python3",
   "name": "python3"
  },
  "language_info": {
   "codemirror_mode": {
    "name": "ipython",
    "version": 3
   },
   "file_extension": ".py",
   "mimetype": "text/x-python",
   "name": "python",
   "nbconvert_exporter": "python",
   "pygments_lexer": "ipython3",
   "version": "3.6.9"
  }
 },
 "nbformat": 4,
 "nbformat_minor": 2
}
