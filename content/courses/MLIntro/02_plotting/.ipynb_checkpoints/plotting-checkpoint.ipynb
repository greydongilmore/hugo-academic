{
 "cells": [
  {
   "cell_type": "markdown",
   "metadata": {},
   "source": [
    "# Visualising Data\n",
    "\n",
    "The purpose of scientific computation is insight not numbers: To understand the meaning of the (many) numbers we compute, we often need postprocessing, statistical analysis and graphical visualisation of our data. The ensuing sections will outline the  use of plotting tools within Python, mainly Matplotlib, Pandas and Plotly.\n",
    "\n",
    "## Matplotlib\n",
    "\n",
    "The Python library Matplotlib is a python 2D plotting library which produces publication quality figures in a variety of hardcopy formats and interactive environments. Matplotlib tries to make easy things easy and hard things possible. You can generate plots, histograms, power spectra, bar charts, errorcharts, scatterplots, etc, with just a few lines of code.\n",
    "\n",
    "For more detailed information, check these links:\n",
    "\n",
    "* <a href=\"http://www.matplotlib.org\" target=\"_blank\">The project web page for matplotlib.</a>\n",
    "* <a href=\"https://github.com/matplotlib/matplotlib\" target=\"_blank\">The source code for matplotlib.</a>\n",
    "* <a href=\"http://matplotlib.org/gallery.html\" target=\"_blank\">A large gallery showcaseing various types of plots matplotlib can create.</a>\n",
    "* <a href=\"http://www.loria.fr/~rougier/teaching/matplotlib\" target=\"_blank\">A good matplotlib tutorial.</a>\n",
    "* <a href=\"http://scipy-lectures.github.io/matplotlib/matplotlib.html\" target=\"_blank\">Another good matplotlib reference.</a>\n",
    "\n"
   ]
  }
 ],
 "metadata": {
  "kernelspec": {
   "display_name": "Python 3 (Spyder)",
   "language": "python3",
   "name": "python3"
  },
  "language_info": {
   "codemirror_mode": {
    "name": "ipython",
    "version": 3
   },
   "file_extension": ".py",
   "mimetype": "text/x-python",
   "name": "python",
   "nbconvert_exporter": "python",
   "pygments_lexer": "ipython3",
   "version": "3.6.9"
  }
 },
 "nbformat": 4,
 "nbformat_minor": 2
}
