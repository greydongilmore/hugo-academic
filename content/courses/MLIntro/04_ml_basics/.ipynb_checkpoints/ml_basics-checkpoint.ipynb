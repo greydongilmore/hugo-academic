{
 "cells": [
  {
   "cell_type": "markdown",
   "metadata": {},
   "source": [
    "# What *is* machine learning?\n",
    "\n",
    "Here's a working definition: **machine learning is the field of science/engineering that seeks to build systems capable of learning from experience.**\n",
    "\n",
    "This is a very broad definition, and in practice, the set of activities that get labeled \"machine learning\" is pretty heterogeneous. However, two elements are common to nearly all machine learning applications: (a) the emphasis is on developing algorithms that can learn (semi-)autonomously from data, rather than static rule-based systems that must be explicitly designed or updated by humans; and (b) algorithm evaluation focuses heavily on the ability to meet objective quantitative targets.\n",
    "\n",
    "Fundamentally, machine learning involves building mathematical models to help understand data. \"Learning\" enters the fray when we give these models tunable parameters that can be adapted to observed data; in this way the program can be considered to be \"learning\" from the data. Once these models have been fit to previously seen data, they can be used to predict and understand aspects of newly observed data.\n",
    "\n",
    "Within the subsequent subsections we will cover the basics of machine learning including terminology and basic principles.\n",
    "\n",
    "## Exploratory Data Analysis\n",
    "\n",
    "In exploratory data analysis (EDA), a major component of the data science lifecycle, we summarize, visualize, and transform data in order to understand them more deeply. Through exploratory data analysis we seek to deeply understand our data. Maintaining \"a state of flexibility\" helps us know what to look for. Fluency with our computational tools allows us to conduct our search. In this chapter, we emphasize the necessary attitude as we introduce increasingly sophisticated tools. Although EDA varies between domains of study, we almost always begin EDA by understanding:\n",
    "\n",
    "1. The data types of columns and the granularity of rows in the dataset.\n",
    "2. The distributions of quantitative data and measures of center and spread.\n",
    "3. Relationships between quantities in the dataset."
   ]
  }
 ],
 "metadata": {
  "kernelspec": {
   "display_name": "Python 3",
   "language": "python",
   "name": "python3"
  },
  "language_info": {
   "codemirror_mode": {
    "name": "ipython",
    "version": 3
   },
   "file_extension": ".py",
   "mimetype": "text/x-python",
   "name": "python",
   "nbconvert_exporter": "python",
   "pygments_lexer": "ipython3",
   "version": "3.6.9"
  }
 },
 "nbformat": 4,
 "nbformat_minor": 4
}
