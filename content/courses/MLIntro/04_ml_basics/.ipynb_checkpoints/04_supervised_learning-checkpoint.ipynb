{
 "cells": [
  {
   "cell_type": "markdown",
   "metadata": {},
   "source": [
    "# Classification\n",
    "\n",
    "Now let's look at classification. In this case, the target labels we're trying to predict are discrete (or categorical). For example, building a model that takes a structural brain image as input and outputs a prediction about whether the brain belongs to a dog or a cat is a classification problem, because the output is discrete: each brain belongs to one of the two classes (or categories), and no brain ever takes on an an intermediate value (though our classifiers can certainly make a graded or probabilistic prediction about which class a brain belongs to).\n",
    "\n",
    "In practice, we can often turn regression problems into classification problems by discretizing the data in some way. To make the point really clear, let's stick with our personality dataset. Notice that instead of trying to predict continuous age from personality (a regression problem), we *could* in principle bin people into groups based on their age, and then try to develop a model that can correctly *classify* people as \"young\" or \"old\" based on their self-reported personality scores. Almost any regression problem can be turned into a classification problem in this way (the converse is not generally true).\n",
    "\n",
    "I hasten to emphasize that discretizing continuous data for classification purposes is generally *not* a good thing to do (even though it's quite common in many social and biomedical sciences). But we'll allow ourselves the liberty in this particular case, because one thing the act of discretization does make clear is the close relationship between the two kinds of problems.\n",
    "\n",
    "## Age prediction as a classification problem\n",
    "Let's set up our age prediction problems as a classification problem by assigning all participants to either YOUNG (age < 18) or OLD (age >= 40) groups based on their age. I'm well aware that most people are not going to be very happy with a discretization of age that calls anyone over 40 an \"old\" person. If this bothers you (and it probably should), congratulations: you now appreciate one of the problems (there are several!) with discretizing variables that are naturally continuous.\n",
    "\n",
    "Let's plot the joint distribution of two personality traits that have a non-trivial relationship with age: Conscientiousness and Extraversion. We'll color the individual points based on the assigned age group."
   ]
  }
 ],
 "metadata": {
  "kernelspec": {
   "display_name": "Python 3",
   "language": "python",
   "name": "python3"
  },
  "language_info": {
   "codemirror_mode": {
    "name": "ipython",
    "version": 3
   },
   "file_extension": ".py",
   "mimetype": "text/x-python",
   "name": "python",
   "nbconvert_exporter": "python",
   "pygments_lexer": "ipython3",
   "version": "3.7.3"
  }
 },
 "nbformat": 4,
 "nbformat_minor": 4
}
